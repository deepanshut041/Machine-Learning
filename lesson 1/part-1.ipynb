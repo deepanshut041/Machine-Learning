{
 "cells": [
  {
   "cell_type": "markdown",
   "metadata": {},
   "source": [
    "<h2>Using openCv to read an image</h2>\n",
    "<p><strong> cv2.imread()</strong> to read an image</p>\n",
    "<p>Second argument is a flag which specifies the way image should be read.</p>\n",
    "<ul>\n",
    "  <li>cv2.IMREAD_COLOR : Loads a color image. Any transparency of image will be neglected. It is the default flag.(1)</li>\n",
    "  <li>cv2.IMREAD_GRAYSCALE : Loads image in grayscale mode(0)</li>\n",
    "  <li>cv2.IMREAD_UNCHANGED : Loads image as such including alpha channel(-1)</li>\n",
    "</ul>"
   ]
  },
  {
   "cell_type": "code",
   "execution_count": null,
   "metadata": {},
   "outputs": [],
   "source": [
    "import numpy as np\n",
    "import cv2\n",
    "\n",
    "# Load an color image in grayscale\n",
    "img = cv2.imread('messi.jpg',0)"
   ]
  },
  {
   "cell_type": "markdown",
   "metadata": {},
   "source": [
    "<h2>Using openCv to display an image</h2>\n",
    "<p><strong> cv2.imshow()</strong> to display an image in a window</p>\n",
    "<p>First argument is a window name which is a string. second argument is our image. You can create as many windows as you wish, but with different window names.</p>\n",
    "<ul>\n",
    "  <li><strong>cv2.waitKey()</strong> is a keyboard binding function. Its argument is the time in milliseconds. The function waits for specified milliseconds for any keyboard event. If you press any key in that time, the program continues. If 0 is passed, it waits indefinitely for a key stroke. It can also be set to detect specific key strokes like, if key a is pressed etc which we will discuss below.</li>\n",
    "  <li><strong>cv2.destroyAllWindows()</strong> simply destroys all the windows we created. If you want to destroy any specific window, use the function </li>\n",
    "  <li>cv2.IMREAD_UNCHANGED : Loads image as such including alpha channel(-1)</li>\n",
    "</ul>"
   ]
  },
  {
   "cell_type": "code",
   "execution_count": null,
   "metadata": {
    "collapsed": true
   },
   "outputs": [],
   "source": [
    "cv2.namedWindow('image', cv2.WINDOW_NORMAL)\n",
    "cv2.imshow('image',img)\n",
    "cv2.waitKey(0)\n",
    "cv2.destroyAllWindows()"
   ]
  }
 ],
 "metadata": {
  "kernelspec": {
   "display_name": "Python 3",
   "language": "python",
   "name": "python3"
  },
  "language_info": {
   "codemirror_mode": {
    "name": "ipython",
    "version": 3
   },
   "file_extension": ".py",
   "mimetype": "text/x-python",
   "name": "python",
   "nbconvert_exporter": "python",
   "pygments_lexer": "ipython3",
   "version": "3.6.3"
  }
 },
 "nbformat": 4,
 "nbformat_minor": 2
}
